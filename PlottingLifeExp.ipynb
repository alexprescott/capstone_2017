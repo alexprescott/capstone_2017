{
 "cells": [
  {
   "cell_type": "code",
   "execution_count": 37,
   "metadata": {
    "collapsed": true
   },
   "outputs": [],
   "source": [
    "import numpy as np\n",
    "import math\n",
    "import pandas\n",
    "import csv\n",
    "import matplotlib.pyplot as plt\n",
    "%matplotlib inline"
   ]
  },
  {
   "cell_type": "code",
   "execution_count": 48,
   "metadata": {
    "collapsed": false
   },
   "outputs": [],
   "source": [
    "def read_file(fn):\n",
    "    # load data\n",
    "    filename = fn\n",
    "    with open(filename,'r') as csvfile:\n",
    "        reader = csv.reader(csvfile)\n",
    "        country = []\n",
    "        year = []\n",
    "        pop = []\n",
    "        cont = []\n",
    "        lifeExp = []\n",
    "        gdp = []\n",
    "        for row in reader:\n",
    "            if row[0] != 'country':\n",
    "                country.append(row[0])\n",
    "                year.append(int(row[1]))\n",
    "                pop.append(row[2])\n",
    "                cont.append(row[3])\n",
    "                lifeExp.append(float(row[4]))\n",
    "                gdp.append(row[5])"
   ]
  },
  {
   "cell_type": "code",
   "execution_count": 49,
   "metadata": {
    "collapsed": true
   },
   "outputs": [],
   "source": [
    "read_file('data/gapminder.csv')"
   ]
  },
  {
   "cell_type": "code",
   "execution_count": 51,
   "metadata": {
    "collapsed": true
   },
   "outputs": [],
   "source": [
    "df = pandas.read_csv('data/gapminder.csv')"
   ]
  },
  {
   "cell_type": "code",
   "execution_count": 52,
   "metadata": {
    "collapsed": false,
    "scrolled": false
   },
   "outputs": [
    {
     "data": {
      "text/html": [
       "<div>\n",
       "<table border=\"1\" class=\"dataframe\">\n",
       "  <thead>\n",
       "    <tr style=\"text-align: right;\">\n",
       "      <th></th>\n",
       "      <th>country</th>\n",
       "      <th>year</th>\n",
       "      <th>pop</th>\n",
       "      <th>continent</th>\n",
       "      <th>lifeExp</th>\n",
       "      <th>gdpPercap</th>\n",
       "    </tr>\n",
       "  </thead>\n",
       "  <tbody>\n",
       "    <tr>\n",
       "      <th>0</th>\n",
       "      <td>Afghanistan</td>\n",
       "      <td>1952</td>\n",
       "      <td>8425333.0</td>\n",
       "      <td>Asia</td>\n",
       "      <td>28.801</td>\n",
       "      <td>779.445314</td>\n",
       "    </tr>\n",
       "    <tr>\n",
       "      <th>1</th>\n",
       "      <td>Afghanistan</td>\n",
       "      <td>1957</td>\n",
       "      <td>9240934.0</td>\n",
       "      <td>Asia</td>\n",
       "      <td>30.332</td>\n",
       "      <td>820.853030</td>\n",
       "    </tr>\n",
       "    <tr>\n",
       "      <th>2</th>\n",
       "      <td>Afghanistan</td>\n",
       "      <td>1962</td>\n",
       "      <td>10267083.0</td>\n",
       "      <td>Asia</td>\n",
       "      <td>31.997</td>\n",
       "      <td>853.100710</td>\n",
       "    </tr>\n",
       "    <tr>\n",
       "      <th>3</th>\n",
       "      <td>Afghanistan</td>\n",
       "      <td>1967</td>\n",
       "      <td>11537966.0</td>\n",
       "      <td>Asia</td>\n",
       "      <td>34.020</td>\n",
       "      <td>836.197138</td>\n",
       "    </tr>\n",
       "    <tr>\n",
       "      <th>4</th>\n",
       "      <td>Afghanistan</td>\n",
       "      <td>1972</td>\n",
       "      <td>13079460.0</td>\n",
       "      <td>Asia</td>\n",
       "      <td>36.088</td>\n",
       "      <td>739.981106</td>\n",
       "    </tr>\n",
       "  </tbody>\n",
       "</table>\n",
       "</div>"
      ],
      "text/plain": [
       "       country  year         pop continent  lifeExp   gdpPercap\n",
       "0  Afghanistan  1952   8425333.0      Asia   28.801  779.445314\n",
       "1  Afghanistan  1957   9240934.0      Asia   30.332  820.853030\n",
       "2  Afghanistan  1962  10267083.0      Asia   31.997  853.100710\n",
       "3  Afghanistan  1967  11537966.0      Asia   34.020  836.197138\n",
       "4  Afghanistan  1972  13079460.0      Asia   36.088  739.981106"
      ]
     },
     "execution_count": 52,
     "metadata": {},
     "output_type": "execute_result"
    }
   ],
   "source": [
    "df.head()"
   ]
  },
  {
   "cell_type": "code",
   "execution_count": 168,
   "metadata": {
    "collapsed": false
   },
   "outputs": [],
   "source": [
    "# Rename the pop header, as there exists a function df.pop()\n",
    "df=df.rename(columns={\"pop\": \"Pop\"})"
   ]
  },
  {
   "cell_type": "code",
   "execution_count": 69,
   "metadata": {
    "collapsed": false
   },
   "outputs": [
    {
     "data": {
      "text/plain": [
       "array(['Afghanistan', 'Albania', 'Algeria', 'Angola', 'Argentina',\n",
       "       'Australia', 'Austria', 'Bahrain', 'Bangladesh', 'Belgium', 'Benin',\n",
       "       'Bolivia', 'Bosnia and Herzegovina', 'Botswana', 'Brazil',\n",
       "       'Bulgaria', 'Burkina Faso', 'Burundi', 'Cambodia', 'Cameroon',\n",
       "       'Canada', 'Central African Republic', 'Chad', 'Chile', 'China',\n",
       "       'Colombia', 'Comoros', 'Congo Dem. Rep.', 'Congo Rep.',\n",
       "       'Costa Rica', \"Cote d'Ivoire\", 'Croatia', 'Cuba', 'Czech Republic',\n",
       "       'Denmark', 'Djibouti', 'Dominican Republic', 'Ecuador', 'Egypt',\n",
       "       'El Salvador', 'Equatorial Guinea', 'Eritrea', 'Ethiopia',\n",
       "       'Finland', 'France', 'Gabon', 'Gambia', 'Germany', 'Ghana',\n",
       "       'Greece', 'Guatemala', 'Guinea', 'Guinea-Bissau', 'Haiti',\n",
       "       'Honduras', 'Hong Kong China', 'Hungary', 'Iceland', 'India',\n",
       "       'Indonesia', 'Iran', 'Iraq', 'Ireland', 'Israel', 'Italy',\n",
       "       'Jamaica', 'Japan', 'Jordan', 'Kenya', 'Korea Dem. Rep.',\n",
       "       'Korea Rep.', 'Kuwait', 'Lebanon', 'Lesotho', 'Liberia', 'Libya',\n",
       "       'Madagascar', 'Malawi', 'Malaysia', 'Mali', 'Mauritania',\n",
       "       'Mauritius', 'Mexico', 'Mongolia', 'Montenegro', 'Morocco',\n",
       "       'Mozambique', 'Myanmar', 'Namibia', 'Nepal', 'Netherlands',\n",
       "       'New Zealand', 'Nicaragua', 'Niger', 'Nigeria', 'Norway', 'Oman',\n",
       "       'Pakistan', 'Panama', 'Paraguay', 'Peru', 'Philippines', 'Poland',\n",
       "       'Portugal', 'Puerto Rico', 'Reunion', 'Romania', 'Rwanda',\n",
       "       'Sao Tome and Principe', 'Saudi Arabia', 'Senegal', 'Serbia',\n",
       "       'Sierra Leone', 'Singapore', 'Slovak Republic', 'Slovenia',\n",
       "       'Somalia', 'South Africa', 'Spain', 'Sri Lanka', 'Sudan',\n",
       "       'Swaziland', 'Sweden', 'Switzerland', 'Syria', 'Taiwan', 'Tanzania',\n",
       "       'Thailand', 'Togo', 'Trinidad and Tobago', 'Tunisia', 'Turkey',\n",
       "       'Uganda', 'United Kingdom', 'United States', 'Uruguay', 'Venezuela',\n",
       "       'Vietnam', 'West Bank and Gaza', 'Yemen Rep.', 'Zambia', 'Zimbabwe'], dtype=object)"
      ]
     },
     "execution_count": 69,
     "metadata": {},
     "output_type": "execute_result"
    }
   ],
   "source": [
    "df.country.unique()"
   ]
  },
  {
   "cell_type": "code",
   "execution_count": 79,
   "metadata": {
    "collapsed": true
   },
   "outputs": [],
   "source": [
    "def plot_country_lifeExp(country):\n",
    "    plt.plot(df.year[df[\"country\"]==country],df.lifeExp[df[\"country\"]==country],'bo')\n",
    "    plt.xlabel('Year')\n",
    "    plt.ylabel('Life Expectancy')\n",
    "    plt.title(country)"
   ]
  },
  {
   "cell_type": "code",
   "execution_count": 80,
   "metadata": {
    "collapsed": false
   },
   "outputs": [
    {
     "data": {
      "image/png": "[encoded data removed]",
      "text/plain": [
       "<matplotlib.figure.Figure at 0xbc30d30>"
      ]
     },
     "metadata": {},
     "output_type": "display_data"
    }
   ],
   "source": [
    "plot_country_lifeExp('Finland')"
   ]
  },
  {
   "cell_type": "code",
   "execution_count": 81,
   "metadata": {
    "collapsed": false
   },
   "outputs": [
    {
     "data": {
      "image/png": "[encoded data removed]",
      "text/plain": [
       "<matplotlib.figure.Figure at 0xbd82588>"
      ]
     },
     "metadata": {},
     "output_type": "display_data"
    }
   ],
   "source": [
    "plot_country_lifeExp('Lesotho')"
   ]
  },
  {
   "cell_type": "code",
   "execution_count": 118,
   "metadata": {
    "collapsed": false
   },
   "outputs": [],
   "source": [
    "def plot_countries_list(A):\n",
    "    for entry in A:\n",
    "        plt.plot(df.year[df[\"country\"]==entry],df.lifeExp[df[\"country\"]==entry])\n",
    "        plt.xlabel('Year')\n",
    "        plt.ylabel('Life Expectancy')\n",
    "    plt.legend(A,loc='lower right',ncol=2)\n",
    "    plt.title('Comparison of Country Life Expectancy')"
   ]
  },
  {
   "cell_type": "code",
   "execution_count": 119,
   "metadata": {
    "collapsed": false,
    "scrolled": false
   },
   "outputs": [
    {
     "data": {
      "image/png": "[encoded data removed]",
      "text/plain": [
       "<matplotlib.figure.Figure at 0xbc89ba8>"
      ]
     },
     "metadata": {},
     "output_type": "display_data"
    }
   ],
   "source": [
    "plot_countries_list({\"Afghanistan\",\"United Kingdom\",\"Lesotho\",\"Zimbabwe\"})"
   ]
  },
  {
   "cell_type": "code",
   "execution_count": 170,
   "metadata": {
    "collapsed": true
   },
   "outputs": [],
   "source": [
    "def plot_count_list(A,b):\n",
    "    '''\n",
    "    This function plots a property, supplied as b, of selected countries, supplied as a list in A\n",
    "    Example:\n",
    "        plot_count_list({\"Germany\",\"France\"},\"Pop\")\n",
    "    Returns a plot of the populations of Germany and France through time\n",
    "    '''\n",
    "    for entry in A:\n",
    "        yseries = eval(\"df\"+\".\"+b)\n",
    "        plt.plot(df.year[df[\"country\"]==entry],yseries[df[\"country\"]==entry])\n",
    "        plt.xlabel('Year')\n",
    "        plt.ylabel(b)\n",
    "        plt.legend(A,loc='upper left',ncol=2)\n",
    "        plt.title('Comparison of Countries')"
   ]
  },
  {
   "cell_type": "code",
   "execution_count": 171,
   "metadata": {
    "collapsed": false
   },
   "outputs": [
    {
     "data": {
      "image/png": "[encoded data removed]",
      "text/plain": [
       "<matplotlib.figure.Figure at 0xd106898>"
      ]
     },
     "metadata": {},
     "output_type": "display_data"
    }
   ],
   "source": [
    "plot_count_list({\"Germany\",\"France\"},\"Pop\")"
   ]
  },
  {
   "cell_type": "code",
   "execution_count": 211,
   "metadata": {
    "collapsed": false
   },
   "outputs": [],
   "source": [
    "def country_statistics():\n",
    "    gdp_max = df[df[\"gdpPercap\"]==df[\"gdpPercap\"].max()]\n",
    "    gdp_min = df[df[\"gdpPercap\"]==df[\"gdpPercap\"].min()]\n",
    "    lE_max = df[df[\"lifeExp\"]==df[\"lifeExp\"].max()]\n",
    "    lE_min = df[df[\"lifeExp\"]==df[\"lifeExp\"].min()]\n",
    "    pop_max = df[df[\"Pop\"]==df[\"Pop\"].max()]\n",
    "    pop_min = df[df[\"Pop\"]==df[\"Pop\"].min()]\n",
    "    return gdp_max,gdp_min,lE_max,lE_min,pop_max,pop_min"
   ]
  },
  {
   "cell_type": "code",
   "execution_count": 228,
   "metadata": {
    "collapsed": false
   },
   "outputs": [
    {
     "name": "stdout",
     "output_type": "stream",
     "text": [
      "Max GDP:\n",
      "     country  year       Pop continent  lifeExp    gdpPercap\n",
      "853  Kuwait  1957  212846.0      Asia   58.033  113523.1329\n",
      "\n",
      "Min GDP:\n",
      "              country  year         Pop continent  lifeExp   gdpPercap\n",
      "334  Congo Dem. Rep.  2002  55379852.0    Africa   44.966  241.165877\n",
      "\n",
      "Max Life Expectancy:\n",
      "     country  year          Pop continent  lifeExp    gdpPercap\n",
      "803   Japan  2007  127467972.0      Asia   82.603  31656.06806\n",
      "\n",
      "Min Life Expectancy:\n",
      "      country  year        Pop continent  lifeExp   gdpPercap\n",
      "1292  Rwanda  1992  7290203.0    Africa   23.599  737.068595\n",
      "\n",
      "Max Population:\n",
      "     country  year           Pop continent  lifeExp    gdpPercap\n",
      "299   China  2007  1.318683e+09      Asia   72.961  4959.114854\n",
      "\n",
      "Min Population:\n",
      "                     country  year      Pop continent  lifeExp   gdpPercap\n",
      "1296  Sao Tome and Principe  1952  60011.0    Africa   46.471  879.583586\n"
     ]
    }
   ],
   "source": [
    "a,b,c,d,e,f = country_statistics()\n",
    "print(\"Max GDP:\\n\",a)\n",
    "print()\n",
    "print(\"Min GDP:\\n\",b)\n",
    "print()\n",
    "print(\"Max Life Expectancy:\\n\",c)\n",
    "print()\n",
    "print(\"Min Life Expectancy:\\n\",d)\n",
    "print()\n",
    "print(\"Max Population:\\n\",e)\n",
    "print()\n",
    "print(\"Min Population:\\n\",f)\n",
    "#np.concatenate((A,B[1]),axis=1)"
   ]
  },
  {
   "cell_type": "code",
   "execution_count": 234,
   "metadata": {
    "collapsed": false
   },
   "outputs": [
    {
     "data": {
      "text/html": [
       "<div>\n",
       "<table border=\"1\" class=\"dataframe\">\n",
       "  <thead>\n",
       "    <tr style=\"text-align: right;\">\n",
       "      <th></th>\n",
       "      <th>country</th>\n",
       "      <th>year</th>\n",
       "      <th>Pop</th>\n",
       "      <th>continent</th>\n",
       "      <th>lifeExp</th>\n",
       "      <th>gdpPercap</th>\n",
       "    </tr>\n",
       "  </thead>\n",
       "  <tbody>\n",
       "    <tr>\n",
       "      <th>299</th>\n",
       "      <td>China</td>\n",
       "      <td>2007</td>\n",
       "      <td>1.318683e+09</td>\n",
       "      <td>Asia</td>\n",
       "      <td>72.961</td>\n",
       "      <td>4959.114854</td>\n",
       "    </tr>\n",
       "    <tr>\n",
       "      <th>298</th>\n",
       "      <td>China</td>\n",
       "      <td>2002</td>\n",
       "      <td>1.280400e+09</td>\n",
       "      <td>Asia</td>\n",
       "      <td>72.028</td>\n",
       "      <td>3119.280896</td>\n",
       "    </tr>\n",
       "    <tr>\n",
       "      <th>297</th>\n",
       "      <td>China</td>\n",
       "      <td>1997</td>\n",
       "      <td>1.230075e+09</td>\n",
       "      <td>Asia</td>\n",
       "      <td>70.426</td>\n",
       "      <td>2289.234136</td>\n",
       "    </tr>\n",
       "    <tr>\n",
       "      <th>296</th>\n",
       "      <td>China</td>\n",
       "      <td>1992</td>\n",
       "      <td>1.164970e+09</td>\n",
       "      <td>Asia</td>\n",
       "      <td>68.690</td>\n",
       "      <td>1655.784158</td>\n",
       "    </tr>\n",
       "    <tr>\n",
       "      <th>707</th>\n",
       "      <td>India</td>\n",
       "      <td>2007</td>\n",
       "      <td>1.110396e+09</td>\n",
       "      <td>Asia</td>\n",
       "      <td>64.698</td>\n",
       "      <td>2452.210407</td>\n",
       "    </tr>\n",
       "  </tbody>\n",
       "</table>\n",
       "</div>"
      ],
      "text/plain": [
       "    country  year           Pop continent  lifeExp    gdpPercap\n",
       "299   China  2007  1.318683e+09      Asia   72.961  4959.114854\n",
       "298   China  2002  1.280400e+09      Asia   72.028  3119.280896\n",
       "297   China  1997  1.230075e+09      Asia   70.426  2289.234136\n",
       "296   China  1992  1.164970e+09      Asia   68.690  1655.784158\n",
       "707   India  2007  1.110396e+09      Asia   64.698  2452.210407"
      ]
     },
     "execution_count": 234,
     "metadata": {},
     "output_type": "execute_result"
    }
   ],
   "source": [
    "df.sort_values(\"Pop\",ascending=False).head()"
   ]
  },
  {
   "cell_type": "markdown",
   "metadata": {},
   "source": [
    "China had both the highest population in 2007 and the second highest in 2002\n"
   ]
  },
  {
   "cell_type": "code",
   "execution_count": null,
   "metadata": {
    "collapsed": true
   },
   "outputs": [],
   "source": []
  }
 ],
 "metadata": {
  "kernelspec": {
   "display_name": "Python 3",
   "language": "python",
   "name": "python3"
  },
  "language_info": {
   "codemirror_mode": {
    "name": "ipython",
    "version": 3
   },
   "file_extension": ".py",
   "mimetype": "text/x-python",
   "name": "python",
   "nbconvert_exporter": "python",
   "pygments_lexer": "ipython3",
   "version": "3.6.0"
  }
 },
 "nbformat": 4,
 "nbformat_minor": 2
}
