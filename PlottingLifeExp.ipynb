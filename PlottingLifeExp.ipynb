{
 "cells": [
  {
   "cell_type": "code",
   "execution_count": 37,
   "metadata": {
    "collapsed": true
   },
   "outputs": [],
   "source": [
    "import numpy as np\n",
    "import math\n",
    "import pandas\n",
    "import csv\n",
    "import matplotlib.pyplot as plt\n",
    "%matplotlib inline"
   ]
  },
  {
   "cell_type": "code",
   "execution_count": 48,
   "metadata": {
    "collapsed": false
   },
   "outputs": [],
   "source": [
    "def read_file(fn):\n",
    "    # load data\n",
    "    filename = fn\n",
    "    with open(filename,'r') as csvfile:\n",
    "        reader = csv.reader(csvfile)\n",
    "        country = []\n",
    "        year = []\n",
    "        pop = []\n",
    "        cont = []\n",
    "        lifeExp = []\n",
    "        gdp = []\n",
    "        for row in reader:\n",
    "            if row[0] != 'country':\n",
    "                country.append(row[0])\n",
    "                year.append(int(row[1]))\n",
    "                pop.append(row[2])\n",
    "                cont.append(row[3])\n",
    "                lifeExp.append(float(row[4]))\n",
    "                gdp.append(row[5])"
   ]
  },
  {
   "cell_type": "code",
   "execution_count": 49,
   "metadata": {
    "collapsed": true
   },
   "outputs": [],
   "source": [
    "read_file('data/gapminder.csv')"
   ]
  },
  {
   "cell_type": "code",
   "execution_count": 51,
   "metadata": {
    "collapsed": true
   },
   "outputs": [],
   "source": [
    "df = pandas.read_csv('data/gapminder.csv')"
   ]
  },
  {
   "cell_type": "code",
   "execution_count": 52,
   "metadata": {
    "collapsed": false,
    "scrolled": false
   },
   "outputs": [
    {
     "data": {
      "text/html": [
       "<div>\n",
       "<table border=\"1\" class=\"dataframe\">\n",
       "  <thead>\n",
       "    <tr style=\"text-align: right;\">\n",
       "      <th></th>\n",
       "      <th>country</th>\n",
       "      <th>year</th>\n",
       "      <th>pop</th>\n",
       "      <th>continent</th>\n",
       "      <th>lifeExp</th>\n",
       "      <th>gdpPercap</th>\n",
       "    </tr>\n",
       "  </thead>\n",
       "  <tbody>\n",
       "    <tr>\n",
       "      <th>0</th>\n",
       "      <td>Afghanistan</td>\n",
       "      <td>1952</td>\n",
       "      <td>8425333.0</td>\n",
       "      <td>Asia</td>\n",
       "      <td>28.801</td>\n",
       "      <td>779.445314</td>\n",
       "    </tr>\n",
       "    <tr>\n",
       "      <th>1</th>\n",
       "      <td>Afghanistan</td>\n",
       "      <td>1957</td>\n",
       "      <td>9240934.0</td>\n",
       "      <td>Asia</td>\n",
       "      <td>30.332</td>\n",
       "      <td>820.853030</td>\n",
       "    </tr>\n",
       "    <tr>\n",
       "      <th>2</th>\n",
       "      <td>Afghanistan</td>\n",
       "      <td>1962</td>\n",
       "      <td>10267083.0</td>\n",
       "      <td>Asia</td>\n",
       "      <td>31.997</td>\n",
       "      <td>853.100710</td>\n",
       "    </tr>\n",
       "    <tr>\n",
       "      <th>3</th>\n",
       "      <td>Afghanistan</td>\n",
       "      <td>1967</td>\n",
       "      <td>11537966.0</td>\n",
       "      <td>Asia</td>\n",
       "      <td>34.020</td>\n",
       "      <td>836.197138</td>\n",
       "    </tr>\n",
       "    <tr>\n",
       "      <th>4</th>\n",
       "      <td>Afghanistan</td>\n",
       "      <td>1972</td>\n",
       "      <td>13079460.0</td>\n",
       "      <td>Asia</td>\n",
       "      <td>36.088</td>\n",
       "      <td>739.981106</td>\n",
       "    </tr>\n",
       "  </tbody>\n",
       "</table>\n",
       "</div>"
      ],
      "text/plain": [
       "       country  year         pop continent  lifeExp   gdpPercap\n",
       "0  Afghanistan  1952   8425333.0      Asia   28.801  779.445314\n",
       "1  Afghanistan  1957   9240934.0      Asia   30.332  820.853030\n",
       "2  Afghanistan  1962  10267083.0      Asia   31.997  853.100710\n",
       "3  Afghanistan  1967  11537966.0      Asia   34.020  836.197138\n",
       "4  Afghanistan  1972  13079460.0      Asia   36.088  739.981106"
      ]
     },
     "execution_count": 52,
     "metadata": {},
     "output_type": "execute_result"
    }
   ],
   "source": [
    "df.head()"
   ]
  },
  {
   "cell_type": "code",
   "execution_count": 166,
   "metadata": {
    "collapsed": false
   },
   "outputs": [],
   "source": [
    "df=df.rename(columns={\"pop\": \"Pop\"})"
   ]
  },
  {
   "cell_type": "code",
   "execution_count": 167,
   "metadata": {
    "collapsed": false
   },
   "outputs": [
    {
     "data": {
      "text/plain": [
       "0        8425333.0\n",
       "1        9240934.0\n",
       "2       10267083.0\n",
       "3       11537966.0\n",
       "4       13079460.0\n",
       "5       14880372.0\n",
       "6       12881816.0\n",
       "7       13867957.0\n",
       "8       16317921.0\n",
       "9       22227415.0\n",
       "10      25268405.0\n",
       "11      31889923.0\n",
       "12       1282697.0\n",
       "13       1476505.0\n",
       "14       1728137.0\n",
       "15       1984060.0\n",
       "16       2263554.0\n",
       "17       2509048.0\n",
       "18       2780097.0\n",
       "19       3075321.0\n",
       "20       3326498.0\n",
       "21       3428038.0\n",
       "22       3508512.0\n",
       "23       3600523.0\n",
       "24       9279525.0\n",
       "25      10270856.0\n",
       "26      11000948.0\n",
       "27      12760499.0\n",
       "28      14760787.0\n",
       "29      17152804.0\n",
       "           ...    \n",
       "1674     9657618.0\n",
       "1675    11219340.0\n",
       "1676    13367997.0\n",
       "1677    15826497.0\n",
       "1678    18701257.0\n",
       "1679    22211743.0\n",
       "1680     2672000.0\n",
       "1681     3016000.0\n",
       "1682     3421000.0\n",
       "1683     3900000.0\n",
       "1684     4506497.0\n",
       "1685     5216550.0\n",
       "1686     6100407.0\n",
       "1687     7272406.0\n",
       "1688     8381163.0\n",
       "1689     9417789.0\n",
       "1690    10595811.0\n",
       "1691    11746035.0\n",
       "1692     3080907.0\n",
       "1693     3646340.0\n",
       "1694     4277736.0\n",
       "1695     4995432.0\n",
       "1696     5861135.0\n",
       "1697     6642107.0\n",
       "1698     7636524.0\n",
       "1699     9216418.0\n",
       "1700    10704340.0\n",
       "1701    11404948.0\n",
       "1702    11926563.0\n",
       "1703    12311143.0\n",
       "Name: Pop, dtype: float64"
      ]
     },
     "execution_count": 167,
     "metadata": {},
     "output_type": "execute_result"
    }
   ],
   "source": [
    "df.Pop"
   ]
  },
  {
   "cell_type": "code",
   "execution_count": 69,
   "metadata": {
    "collapsed": false
   },
   "outputs": [
    {
     "data": {
      "text/plain": [
       "array(['Afghanistan', 'Albania', 'Algeria', 'Angola', 'Argentina',\n",
       "       'Australia', 'Austria', 'Bahrain', 'Bangladesh', 'Belgium', 'Benin',\n",
       "       'Bolivia', 'Bosnia and Herzegovina', 'Botswana', 'Brazil',\n",
       "       'Bulgaria', 'Burkina Faso', 'Burundi', 'Cambodia', 'Cameroon',\n",
       "       'Canada', 'Central African Republic', 'Chad', 'Chile', 'China',\n",
       "       'Colombia', 'Comoros', 'Congo Dem. Rep.', 'Congo Rep.',\n",
       "       'Costa Rica', \"Cote d'Ivoire\", 'Croatia', 'Cuba', 'Czech Republic',\n",
       "       'Denmark', 'Djibouti', 'Dominican Republic', 'Ecuador', 'Egypt',\n",
       "       'El Salvador', 'Equatorial Guinea', 'Eritrea', 'Ethiopia',\n",
       "       'Finland', 'France', 'Gabon', 'Gambia', 'Germany', 'Ghana',\n",
       "       'Greece', 'Guatemala', 'Guinea', 'Guinea-Bissau', 'Haiti',\n",
       "       'Honduras', 'Hong Kong China', 'Hungary', 'Iceland', 'India',\n",
       "       'Indonesia', 'Iran', 'Iraq', 'Ireland', 'Israel', 'Italy',\n",
       "       'Jamaica', 'Japan', 'Jordan', 'Kenya', 'Korea Dem. Rep.',\n",
       "       'Korea Rep.', 'Kuwait', 'Lebanon', 'Lesotho', 'Liberia', 'Libya',\n",
       "       'Madagascar', 'Malawi', 'Malaysia', 'Mali', 'Mauritania',\n",
       "       'Mauritius', 'Mexico', 'Mongolia', 'Montenegro', 'Morocco',\n",
       "       'Mozambique', 'Myanmar', 'Namibia', 'Nepal', 'Netherlands',\n",
       "       'New Zealand', 'Nicaragua', 'Niger', 'Nigeria', 'Norway', 'Oman',\n",
       "       'Pakistan', 'Panama', 'Paraguay', 'Peru', 'Philippines', 'Poland',\n",
       "       'Portugal', 'Puerto Rico', 'Reunion', 'Romania', 'Rwanda',\n",
       "       'Sao Tome and Principe', 'Saudi Arabia', 'Senegal', 'Serbia',\n",
       "       'Sierra Leone', 'Singapore', 'Slovak Republic', 'Slovenia',\n",
       "       'Somalia', 'South Africa', 'Spain', 'Sri Lanka', 'Sudan',\n",
       "       'Swaziland', 'Sweden', 'Switzerland', 'Syria', 'Taiwan', 'Tanzania',\n",
       "       'Thailand', 'Togo', 'Trinidad and Tobago', 'Tunisia', 'Turkey',\n",
       "       'Uganda', 'United Kingdom', 'United States', 'Uruguay', 'Venezuela',\n",
       "       'Vietnam', 'West Bank and Gaza', 'Yemen Rep.', 'Zambia', 'Zimbabwe'], dtype=object)"
      ]
     },
     "execution_count": 69,
     "metadata": {},
     "output_type": "execute_result"
    }
   ],
   "source": [
    "df.country.unique()"
   ]
  },
  {
   "cell_type": "code",
   "execution_count": 79,
   "metadata": {
    "collapsed": true
   },
   "outputs": [],
   "source": [
    "def plot_country_lifeExp(country):\n",
    "    plt.plot(df.year[df[\"country\"]==country],df.lifeExp[df[\"country\"]==country],'bo')\n",
    "    plt.xlabel('Year')\n",
    "    plt.ylabel('Life Expectancy')\n",
    "    plt.title(country)"
   ]
  },
  {
   "cell_type": "code",
   "execution_count": 80,
   "metadata": {
    "collapsed": false
   },
   "outputs": [
    {
     "data": {
      "image/png": "[encoded data removed]",
      "text/plain": [
       "<matplotlib.figure.Figure at 0xbc30d30>"
      ]
     },
     "metadata": {},
     "output_type": "display_data"
    }
   ],
   "source": [
    "plot_country_lifeExp('Finland')"
   ]
  },
  {
   "cell_type": "code",
   "execution_count": 81,
   "metadata": {
    "collapsed": false
   },
   "outputs": [
    {
     "data": {
      "image/png": "[encoded data removed]",
      "text/plain": [
       "<matplotlib.figure.Figure at 0xbd82588>"
      ]
     },
     "metadata": {},
     "output_type": "display_data"
    }
   ],
   "source": [
    "plot_country_lifeExp('Lesotho')"
   ]
  },
  {
   "cell_type": "code",
   "execution_count": 118,
   "metadata": {
    "collapsed": false
   },
   "outputs": [],
   "source": [
    "def plot_countries_list(A):\n",
    "    for entry in A:\n",
    "        plt.plot(df.year[df[\"country\"]==entry],df.lifeExp[df[\"country\"]==entry])\n",
    "        plt.xlabel('Year')\n",
    "        plt.ylabel('Life Expectancy')\n",
    "    plt.legend(A,loc='lower right',ncol=2)\n",
    "    plt.title('Comparison of Country Life Expectancy')"
   ]
  },
  {
   "cell_type": "code",
   "execution_count": 119,
   "metadata": {
    "collapsed": false,
    "scrolled": false
   },
   "outputs": [
    {
     "data": {
      "image/png": "[encoded data removed]",
      "text/plain": [
       "<matplotlib.figure.Figure at 0xbc89ba8>"
      ]
     },
     "metadata": {},
     "output_type": "display_data"
    }
   ],
   "source": [
    "plot_countries_list({\"Afghanistan\",\"United Kingdom\",\"Lesotho\",\"Zimbabwe\"})"
   ]
  },
  {
   "cell_type": "code",
   "execution_count": 144,
   "metadata": {
    "collapsed": true
   },
   "outputs": [],
   "source": [
    "def plot_count_list(A,b):\n",
    "    '''\n",
    "    This function plots a property, supplied as b, of selected countries, supplied as a list in A\n",
    "    Example:\n",
    "        plot_count_list({\"Germany\",\"France\"},\"pop\")\n",
    "    Returns a plot of the populations of Germany and France through time\n",
    "    '''\n",
    "    for entry in A:\n",
    "        yseries = eval(\"df\"+\".\"+b)\n",
    "        plt.plot(df.year[df[\"country\"]==entry],yseries[df[\"country\"]==entry])\n",
    "        plt.xlabel('Year')\n",
    "        plt.ylabel(b)\n",
    "        plt.legend(A,loc='upper left',ncol=2)\n",
    "        plt.title('Comparison of Countries')"
   ]
  },
  {
   "cell_type": "code",
   "execution_count": 146,
   "metadata": {
    "collapsed": false
   },
   "outputs": [
    {
     "ename": "TypeError",
     "evalue": "'method' object is not subscriptable",
     "output_type": "error",
     "traceback": [
      "\u001b[0;31m---------------------------------------------------------------------------\u001b[0m",
      "\u001b[0;31mTypeError\u001b[0m                                 Traceback (most recent call last)",
      "\u001b[0;32m<ipython-input-146-c9a42b366625>\u001b[0m in \u001b[0;36m<module>\u001b[0;34m()\u001b[0m\n\u001b[0;32m----> 1\u001b[0;31m \u001b[0mplot_count_list\u001b[0m\u001b[1;33m(\u001b[0m\u001b[1;33m{\u001b[0m\u001b[1;34m\"Germany\"\u001b[0m\u001b[1;33m,\u001b[0m\u001b[1;34m\"France\"\u001b[0m\u001b[1;33m}\u001b[0m\u001b[1;33m,\u001b[0m\u001b[1;34m\"pop\"\u001b[0m\u001b[1;33m)\u001b[0m\u001b[1;33m\u001b[0m\u001b[0m\n\u001b[0m",
      "\u001b[0;32m<ipython-input-144-29b78440b816>\u001b[0m in \u001b[0;36mplot_count_list\u001b[0;34m(A, b)\u001b[0m\n\u001b[1;32m      8\u001b[0m     \u001b[1;32mfor\u001b[0m \u001b[0mentry\u001b[0m \u001b[1;32min\u001b[0m \u001b[0mA\u001b[0m\u001b[1;33m:\u001b[0m\u001b[1;33m\u001b[0m\u001b[0m\n\u001b[1;32m      9\u001b[0m         \u001b[0myseries\u001b[0m \u001b[1;33m=\u001b[0m \u001b[0meval\u001b[0m\u001b[1;33m(\u001b[0m\u001b[1;34m\"df\"\u001b[0m\u001b[1;33m+\u001b[0m\u001b[1;34m\".\"\u001b[0m\u001b[1;33m+\u001b[0m\u001b[0mb\u001b[0m\u001b[1;33m)\u001b[0m\u001b[1;33m\u001b[0m\u001b[0m\n\u001b[0;32m---> 10\u001b[0;31m         \u001b[0mplt\u001b[0m\u001b[1;33m.\u001b[0m\u001b[0mplot\u001b[0m\u001b[1;33m(\u001b[0m\u001b[0mdf\u001b[0m\u001b[1;33m.\u001b[0m\u001b[0myear\u001b[0m\u001b[1;33m[\u001b[0m\u001b[0mdf\u001b[0m\u001b[1;33m[\u001b[0m\u001b[1;34m\"country\"\u001b[0m\u001b[1;33m]\u001b[0m\u001b[1;33m==\u001b[0m\u001b[0mentry\u001b[0m\u001b[1;33m]\u001b[0m\u001b[1;33m,\u001b[0m\u001b[0myseries\u001b[0m\u001b[1;33m[\u001b[0m\u001b[0mdf\u001b[0m\u001b[1;33m[\u001b[0m\u001b[1;34m\"country\"\u001b[0m\u001b[1;33m]\u001b[0m\u001b[1;33m==\u001b[0m\u001b[0mentry\u001b[0m\u001b[1;33m]\u001b[0m\u001b[1;33m)\u001b[0m\u001b[1;33m\u001b[0m\u001b[0m\n\u001b[0m\u001b[1;32m     11\u001b[0m         \u001b[0mplt\u001b[0m\u001b[1;33m.\u001b[0m\u001b[0mxlabel\u001b[0m\u001b[1;33m(\u001b[0m\u001b[1;34m'Year'\u001b[0m\u001b[1;33m)\u001b[0m\u001b[1;33m\u001b[0m\u001b[0m\n\u001b[1;32m     12\u001b[0m         \u001b[0mplt\u001b[0m\u001b[1;33m.\u001b[0m\u001b[0mylabel\u001b[0m\u001b[1;33m(\u001b[0m\u001b[0mb\u001b[0m\u001b[1;33m)\u001b[0m\u001b[1;33m\u001b[0m\u001b[0m\n",
      "\u001b[0;31mTypeError\u001b[0m: 'method' object is not subscriptable"
     ]
    }
   ],
   "source": [
    "plot_count_list({\"Germany\",\"France\"},\"pop\")"
   ]
  },
  {
   "cell_type": "code",
   "execution_count": 147,
   "metadata": {
    "collapsed": false
   },
   "outputs": [
    {
     "data": {
      "text/plain": [
       "<bound method NDFrame.pop of           country  year         pop continent  lifeExp    gdpPercap\n",
       "0     Afghanistan  1952   8425333.0      Asia   28.801   779.445314\n",
       "1     Afghanistan  1957   9240934.0      Asia   30.332   820.853030\n",
       "2     Afghanistan  1962  10267083.0      Asia   31.997   853.100710\n",
       "3     Afghanistan  1967  11537966.0      Asia   34.020   836.197138\n",
       "4     Afghanistan  1972  13079460.0      Asia   36.088   739.981106\n",
       "5     Afghanistan  1977  14880372.0      Asia   38.438   786.113360\n",
       "6     Afghanistan  1982  12881816.0      Asia   39.854   978.011439\n",
       "7     Afghanistan  1987  13867957.0      Asia   40.822   852.395945\n",
       "8     Afghanistan  1992  16317921.0      Asia   41.674   649.341395\n",
       "9     Afghanistan  1997  22227415.0      Asia   41.763   635.341351\n",
       "10    Afghanistan  2002  25268405.0      Asia   42.129   726.734055\n",
       "11    Afghanistan  2007  31889923.0      Asia   43.828   974.580338\n",
       "12        Albania  1952   1282697.0    Europe   55.230  1601.056136\n",
       "13        Albania  1957   1476505.0    Europe   59.280  1942.284244\n",
       "14        Albania  1962   1728137.0    Europe   64.820  2312.888958\n",
       "15        Albania  1967   1984060.0    Europe   66.220  2760.196931\n",
       "16        Albania  1972   2263554.0    Europe   67.690  3313.422188\n",
       "17        Albania  1977   2509048.0    Europe   68.930  3533.003910\n",
       "18        Albania  1982   2780097.0    Europe   70.420  3630.880722\n",
       "19        Albania  1987   3075321.0    Europe   72.000  3738.932735\n",
       "20        Albania  1992   3326498.0    Europe   71.581  2497.437901\n",
       "21        Albania  1997   3428038.0    Europe   72.950  3193.054604\n",
       "22        Albania  2002   3508512.0    Europe   75.651  4604.211737\n",
       "23        Albania  2007   3600523.0    Europe   76.423  5937.029526\n",
       "24        Algeria  1952   9279525.0    Africa   43.077  2449.008185\n",
       "25        Algeria  1957  10270856.0    Africa   45.685  3013.976023\n",
       "26        Algeria  1962  11000948.0    Africa   48.303  2550.816880\n",
       "27        Algeria  1967  12760499.0    Africa   51.407  3246.991771\n",
       "28        Algeria  1972  14760787.0    Africa   54.518  4182.663766\n",
       "29        Algeria  1977  17152804.0    Africa   58.014  4910.416756\n",
       "...           ...   ...         ...       ...      ...          ...\n",
       "1674   Yemen Rep.  1982   9657618.0      Asia   49.113  1977.557010\n",
       "1675   Yemen Rep.  1987  11219340.0      Asia   52.922  1971.741538\n",
       "1676   Yemen Rep.  1992  13367997.0      Asia   55.599  1879.496673\n",
       "1677   Yemen Rep.  1997  15826497.0      Asia   58.020  2117.484526\n",
       "1678   Yemen Rep.  2002  18701257.0      Asia   60.308  2234.820827\n",
       "1679   Yemen Rep.  2007  22211743.0      Asia   62.698  2280.769906\n",
       "1680       Zambia  1952   2672000.0    Africa   42.038  1147.388831\n",
       "1681       Zambia  1957   3016000.0    Africa   44.077  1311.956766\n",
       "1682       Zambia  1962   3421000.0    Africa   46.023  1452.725766\n",
       "1683       Zambia  1967   3900000.0    Africa   47.768  1777.077318\n",
       "1684       Zambia  1972   4506497.0    Africa   50.107  1773.498265\n",
       "1685       Zambia  1977   5216550.0    Africa   51.386  1588.688299\n",
       "1686       Zambia  1982   6100407.0    Africa   51.821  1408.678565\n",
       "1687       Zambia  1987   7272406.0    Africa   50.821  1213.315116\n",
       "1688       Zambia  1992   8381163.0    Africa   46.100  1210.884633\n",
       "1689       Zambia  1997   9417789.0    Africa   40.238  1071.353818\n",
       "1690       Zambia  2002  10595811.0    Africa   39.193  1071.613938\n",
       "1691       Zambia  2007  11746035.0    Africa   42.384  1271.211593\n",
       "1692     Zimbabwe  1952   3080907.0    Africa   48.451   406.884115\n",
       "1693     Zimbabwe  1957   3646340.0    Africa   50.469   518.764268\n",
       "1694     Zimbabwe  1962   4277736.0    Africa   52.358   527.272182\n",
       "1695     Zimbabwe  1967   4995432.0    Africa   53.995   569.795071\n",
       "1696     Zimbabwe  1972   5861135.0    Africa   55.635   799.362176\n",
       "1697     Zimbabwe  1977   6642107.0    Africa   57.674   685.587682\n",
       "1698     Zimbabwe  1982   7636524.0    Africa   60.363   788.855041\n",
       "1699     Zimbabwe  1987   9216418.0    Africa   62.351   706.157306\n",
       "1700     Zimbabwe  1992  10704340.0    Africa   60.377   693.420786\n",
       "1701     Zimbabwe  1997  11404948.0    Africa   46.809   792.449960\n",
       "1702     Zimbabwe  2002  11926563.0    Africa   39.989   672.038623\n",
       "1703     Zimbabwe  2007  12311143.0    Africa   43.487   469.709298\n",
       "\n",
       "[1704 rows x 6 columns]>"
      ]
     },
     "execution_count": 147,
     "metadata": {},
     "output_type": "execute_result"
    }
   ],
   "source": [
    "b=\"pop\"\n",
    "eval(\"df\"+\".\"+b)"
   ]
  },
  {
   "cell_type": "code",
   "execution_count": 154,
   "metadata": {
    "collapsed": false
   },
   "outputs": [
    {
     "data": {
      "text/plain": [
       "<bound method NDFrame.pop of           country  year         pop continent  lifeExp    gdpPercap\n",
       "0     Afghanistan  1952   8425333.0      Asia   28.801   779.445314\n",
       "1     Afghanistan  1957   9240934.0      Asia   30.332   820.853030\n",
       "2     Afghanistan  1962  10267083.0      Asia   31.997   853.100710\n",
       "3     Afghanistan  1967  11537966.0      Asia   34.020   836.197138\n",
       "4     Afghanistan  1972  13079460.0      Asia   36.088   739.981106\n",
       "5     Afghanistan  1977  14880372.0      Asia   38.438   786.113360\n",
       "6     Afghanistan  1982  12881816.0      Asia   39.854   978.011439\n",
       "7     Afghanistan  1987  13867957.0      Asia   40.822   852.395945\n",
       "8     Afghanistan  1992  16317921.0      Asia   41.674   649.341395\n",
       "9     Afghanistan  1997  22227415.0      Asia   41.763   635.341351\n",
       "10    Afghanistan  2002  25268405.0      Asia   42.129   726.734055\n",
       "11    Afghanistan  2007  31889923.0      Asia   43.828   974.580338\n",
       "12        Albania  1952   1282697.0    Europe   55.230  1601.056136\n",
       "13        Albania  1957   1476505.0    Europe   59.280  1942.284244\n",
       "14        Albania  1962   1728137.0    Europe   64.820  2312.888958\n",
       "15        Albania  1967   1984060.0    Europe   66.220  2760.196931\n",
       "16        Albania  1972   2263554.0    Europe   67.690  3313.422188\n",
       "17        Albania  1977   2509048.0    Europe   68.930  3533.003910\n",
       "18        Albania  1982   2780097.0    Europe   70.420  3630.880722\n",
       "19        Albania  1987   3075321.0    Europe   72.000  3738.932735\n",
       "20        Albania  1992   3326498.0    Europe   71.581  2497.437901\n",
       "21        Albania  1997   3428038.0    Europe   72.950  3193.054604\n",
       "22        Albania  2002   3508512.0    Europe   75.651  4604.211737\n",
       "23        Albania  2007   3600523.0    Europe   76.423  5937.029526\n",
       "24        Algeria  1952   9279525.0    Africa   43.077  2449.008185\n",
       "25        Algeria  1957  10270856.0    Africa   45.685  3013.976023\n",
       "26        Algeria  1962  11000948.0    Africa   48.303  2550.816880\n",
       "27        Algeria  1967  12760499.0    Africa   51.407  3246.991771\n",
       "28        Algeria  1972  14760787.0    Africa   54.518  4182.663766\n",
       "29        Algeria  1977  17152804.0    Africa   58.014  4910.416756\n",
       "...           ...   ...         ...       ...      ...          ...\n",
       "1674   Yemen Rep.  1982   9657618.0      Asia   49.113  1977.557010\n",
       "1675   Yemen Rep.  1987  11219340.0      Asia   52.922  1971.741538\n",
       "1676   Yemen Rep.  1992  13367997.0      Asia   55.599  1879.496673\n",
       "1677   Yemen Rep.  1997  15826497.0      Asia   58.020  2117.484526\n",
       "1678   Yemen Rep.  2002  18701257.0      Asia   60.308  2234.820827\n",
       "1679   Yemen Rep.  2007  22211743.0      Asia   62.698  2280.769906\n",
       "1680       Zambia  1952   2672000.0    Africa   42.038  1147.388831\n",
       "1681       Zambia  1957   3016000.0    Africa   44.077  1311.956766\n",
       "1682       Zambia  1962   3421000.0    Africa   46.023  1452.725766\n",
       "1683       Zambia  1967   3900000.0    Africa   47.768  1777.077318\n",
       "1684       Zambia  1972   4506497.0    Africa   50.107  1773.498265\n",
       "1685       Zambia  1977   5216550.0    Africa   51.386  1588.688299\n",
       "1686       Zambia  1982   6100407.0    Africa   51.821  1408.678565\n",
       "1687       Zambia  1987   7272406.0    Africa   50.821  1213.315116\n",
       "1688       Zambia  1992   8381163.0    Africa   46.100  1210.884633\n",
       "1689       Zambia  1997   9417789.0    Africa   40.238  1071.353818\n",
       "1690       Zambia  2002  10595811.0    Africa   39.193  1071.613938\n",
       "1691       Zambia  2007  11746035.0    Africa   42.384  1271.211593\n",
       "1692     Zimbabwe  1952   3080907.0    Africa   48.451   406.884115\n",
       "1693     Zimbabwe  1957   3646340.0    Africa   50.469   518.764268\n",
       "1694     Zimbabwe  1962   4277736.0    Africa   52.358   527.272182\n",
       "1695     Zimbabwe  1967   4995432.0    Africa   53.995   569.795071\n",
       "1696     Zimbabwe  1972   5861135.0    Africa   55.635   799.362176\n",
       "1697     Zimbabwe  1977   6642107.0    Africa   57.674   685.587682\n",
       "1698     Zimbabwe  1982   7636524.0    Africa   60.363   788.855041\n",
       "1699     Zimbabwe  1987   9216418.0    Africa   62.351   706.157306\n",
       "1700     Zimbabwe  1992  10704340.0    Africa   60.377   693.420786\n",
       "1701     Zimbabwe  1997  11404948.0    Africa   46.809   792.449960\n",
       "1702     Zimbabwe  2002  11926563.0    Africa   39.989   672.038623\n",
       "1703     Zimbabwe  2007  12311143.0    Africa   43.487   469.709298\n",
       "\n",
       "[1704 rows x 6 columns]>"
      ]
     },
     "execution_count": 154,
     "metadata": {},
     "output_type": "execute_result"
    }
   ],
   "source": [
    "df.pop"
   ]
  },
  {
   "cell_type": "code",
   "execution_count": null,
   "metadata": {
    "collapsed": true
   },
   "outputs": [],
   "source": []
  }
 ],
 "metadata": {
  "kernelspec": {
   "display_name": "Python 3",
   "language": "python",
   "name": "python3"
  },
  "language_info": {
   "codemirror_mode": {
    "name": "ipython",
    "version": 3
   },
   "file_extension": ".py",
   "mimetype": "text/x-python",
   "name": "python",
   "nbconvert_exporter": "python",
   "pygments_lexer": "ipython3",
   "version": "3.6.0"
  }
 },
 "nbformat": 4,
 "nbformat_minor": 2
}
